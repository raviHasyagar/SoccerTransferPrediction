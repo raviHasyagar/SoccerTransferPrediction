{
 "cells": [
  {
   "cell_type": "markdown",
   "id": "0f8bec94",
   "metadata": {},
   "source": [
    "## News article scraping from eyefootball.com"
   ]
  },
  {
   "cell_type": "code",
   "execution_count": 2,
   "id": "5b043f23",
   "metadata": {},
   "outputs": [],
   "source": [
    "import pandas as pd\n",
    "from bs4 import BeautifulSoup as bs\n",
    "import urllib.request as rs\n",
    "import os"
   ]
  },
  {
   "cell_type": "code",
   "execution_count": 2,
   "id": "847574fc",
   "metadata": {},
   "outputs": [],
   "source": [
    "def extract_history(year, month):\n",
    "    url = \"https://www.eyefootball.com/archive/?monthly=\" + str(year) + \"-\" + str(month).zfill(2)\n",
    "    print(url)\n",
    "    fifa = rs.urlopen(url)\n",
    "    text = fifa.read()\n",
    "    soup = bs(text)\n",
    "    news_url = []\n",
    "    for t in soup.find_all('a'):\n",
    "        if t.attrs['href'].find('/news/') > -1:\n",
    "            news_url.append('https://www.eyefootball.com/' + t.attrs['href'])\n",
    "    print('Total news articles to be extracted from', url)\n",
    "    print(len(news_url))\n",
    "    count = 0\n",
    "    for i in news_url:\n",
    "        news_article_uri = rs.urlopen(i)\n",
    "        news_url_text = news_article_uri.read()\n",
    "        news_soup = bs(news_url_text)\n",
    "        article_text = ''\n",
    "        for j in news_soup.find_all('p'):\n",
    "            try:\n",
    "                if j.attrs['style'].find('font-size') > -1:\n",
    "                    article_text = j.get_text().replace('\\n', '')\n",
    "            except:\n",
    "                None\n",
    "        directory = 'D:\\\\Academics\\\\UMN-MSBA\\\\Term 3\\\\MSBA 6460 - Advanced AI\\\\Project 1\\\\articles\\\\' + \\\n",
    "                         str(year) + \\\n",
    "                         str(month).zfill(2) + \\\n",
    "                         '\\\\'\n",
    "        if not os.path.exists(directory):\n",
    "            os.makedirs(directory)\n",
    "        text_file = open(directory +\n",
    "                         str(count) + '.txt',\n",
    "                         \"w\")\n",
    "        text_file.write(article_text)\n",
    "        text_file.close()\n",
    "        count += 1"
   ]
  },
  {
   "cell_type": "code",
   "execution_count": 6,
   "id": "2bf7ecd5",
   "metadata": {},
   "outputs": [
    {
     "name": "stdout",
     "output_type": "stream",
     "text": [
      "https://www.eyefootball.com/archive/?monthly=2021-02\n",
      "Total news articles to be extracted from https://www.eyefootball.com/archive/?monthly=2021-02\n",
      "210\n",
      "https://www.eyefootball.com/archive/?monthly=2021-03\n",
      "Total news articles to be extracted from https://www.eyefootball.com/archive/?monthly=2021-03\n",
      "231\n",
      "https://www.eyefootball.com/archive/?monthly=2021-04\n",
      "Total news articles to be extracted from https://www.eyefootball.com/archive/?monthly=2021-04\n",
      "226\n"
     ]
    }
   ],
   "source": [
    "extraction_months = [(2020, 9),\n",
    "                    (2020, 10),\n",
    "                    (2020, 11),\n",
    "                    (2020, 12),\n",
    "                    (2021, 1),\n",
    "                    (2021, 2),\n",
    "                    (2021, 3),\n",
    "                    (2021, 4)]\n",
    "\n",
    "for i in extraction_months:\n",
    "    extract_history(i[0], i[1])"
   ]
  },
  {
   "cell_type": "markdown",
   "id": "d1cb17fd",
   "metadata": {},
   "source": [
    "## Player Name Extraction"
   ]
  },
  {
   "cell_type": "code",
   "execution_count": 3,
   "id": "7a40c7be",
   "metadata": {},
   "outputs": [
    {
     "name": "stderr",
     "output_type": "stream",
     "text": [
      "[nltk_data] Downloading package punkt to\n",
      "[nltk_data]     C:\\Users\\ravih\\AppData\\Roaming\\nltk_data...\n",
      "[nltk_data]   Package punkt is already up-to-date!\n",
      "[nltk_data] Downloading package averaged_perceptron_tagger to\n",
      "[nltk_data]     C:\\Users\\ravih\\AppData\\Roaming\\nltk_data...\n",
      "[nltk_data]   Package averaged_perceptron_tagger is already up-to-\n",
      "[nltk_data]       date!\n",
      "[nltk_data] Downloading package maxent_ne_chunker to\n",
      "[nltk_data]     C:\\Users\\ravih\\AppData\\Roaming\\nltk_data...\n",
      "[nltk_data]   Package maxent_ne_chunker is already up-to-date!\n",
      "[nltk_data] Downloading package words to\n",
      "[nltk_data]     C:\\Users\\ravih\\AppData\\Roaming\\nltk_data...\n",
      "[nltk_data]   Package words is already up-to-date!\n"
     ]
    },
    {
     "data": {
      "text/plain": [
       "True"
      ]
     },
     "execution_count": 3,
     "metadata": {},
     "output_type": "execute_result"
    }
   ],
   "source": [
    "import nltk\n",
    "from tqdm import tqdm\n",
    "from nltk import ne_chunk, pos_tag, word_tokenize\n",
    "from nltk.tree import Tree\n",
    "\n",
    "nltk.download('punkt')\n",
    "nltk.download('averaged_perceptron_tagger')\n",
    "nltk.download('maxent_ne_chunker')\n",
    "nltk.download('words')"
   ]
  },
  {
   "cell_type": "code",
   "execution_count": 4,
   "id": "b2422ec4",
   "metadata": {},
   "outputs": [
    {
     "name": "stdout",
     "output_type": "stream",
     "text": [
      "Reference:: https://unbiased-coder.com/extract-names-python-nltk/\n"
     ]
    },
    {
     "name": "stderr",
     "output_type": "stream",
     "text": [
      "100%|██████████████████████████████████████████████████████████████████████████████| 1874/1874 [03:20<00:00,  9.35it/s]\n"
     ]
    }
   ],
   "source": [
    "print('Reference:: https://unbiased-coder.com/extract-names-python-nltk/')\n",
    "from os import listdir\n",
    "from os.path import isfile, join\n",
    "\n",
    "directory = 'D:\\\\Academics\\\\UMN-MSBA\\\\Term 3\\\\MSBA 6460 - Advanced AI\\\\Project 1\\\\'\n",
    "result = [os.path.join(dp, f) \n",
    "          for dp, dn, filenames in os.walk(directory) \n",
    "          for f in filenames if os.path.splitext(f)[1] == '.txt']\n",
    "finalList = []\n",
    "for i in tqdm(result):\n",
    "    with open(i) as f:\n",
    "        lines = f.readlines()\n",
    "    nltk_results = ne_chunk(pos_tag(word_tokenize(lines[0])))\n",
    "    # print(len(nltk_results))\n",
    "    for nltk_result in nltk_results:\n",
    "        if type(nltk_result) == Tree:\n",
    "            name = ''\n",
    "            for nltk_result_leaf in nltk_result.leaves():\n",
    "                name += nltk_result_leaf[0] + ' '\n",
    "            # print ('Type: ', nltk_result.label(), 'Name: ', name)\n",
    "            if nltk_result.label() == 'PERSON':\n",
    "                finalList.append([i, name.strip()])"
   ]
  },
  {
   "cell_type": "code",
   "execution_count": 5,
   "id": "7df1e68c",
   "metadata": {},
   "outputs": [],
   "source": [
    "dataDF = pd.DataFrame(finalList, columns = ['news_file', 'player_name'])\n",
    "dataDF.to_csv('player_names_for_news.csv')"
   ]
  },
  {
   "cell_type": "markdown",
   "id": "ced293a0",
   "metadata": {},
   "source": [
    "## Filtering out Non-Players"
   ]
  },
  {
   "cell_type": "code",
   "execution_count": 24,
   "id": "9109a908",
   "metadata": {},
   "outputs": [
    {
     "name": "stdout",
     "output_type": "stream",
     "text": [
      "Index(['LastName', 'FirstName'], dtype='object')\n"
     ]
    },
    {
     "data": {
      "text/html": [
       "<div>\n",
       "<style scoped>\n",
       "    .dataframe tbody tr th:only-of-type {\n",
       "        vertical-align: middle;\n",
       "    }\n",
       "\n",
       "    .dataframe tbody tr th {\n",
       "        vertical-align: top;\n",
       "    }\n",
       "\n",
       "    .dataframe thead th {\n",
       "        text-align: right;\n",
       "    }\n",
       "</style>\n",
       "<table border=\"1\" class=\"dataframe\">\n",
       "  <thead>\n",
       "    <tr style=\"text-align: right;\">\n",
       "      <th></th>\n",
       "      <th>LastName</th>\n",
       "      <th>FirstName</th>\n",
       "    </tr>\n",
       "  </thead>\n",
       "  <tbody>\n",
       "    <tr>\n",
       "      <th>0</th>\n",
       "      <td>Akinola</td>\n",
       "      <td>Timothy Olaoluwa</td>\n",
       "    </tr>\n",
       "    <tr>\n",
       "      <th>1</th>\n",
       "      <td>Alebiosu</td>\n",
       "      <td>Ryan</td>\n",
       "    </tr>\n",
       "    <tr>\n",
       "      <th>2</th>\n",
       "      <td>Alves Soares</td>\n",
       "      <td>Cedric Ricardo</td>\n",
       "    </tr>\n",
       "    <tr>\n",
       "      <th>3</th>\n",
       "      <td>Aubameyang</td>\n",
       "      <td>Pierre-Emerick</td>\n",
       "    </tr>\n",
       "    <tr>\n",
       "      <th>4</th>\n",
       "      <td>Awe</td>\n",
       "      <td>Zachariah Olumide</td>\n",
       "    </tr>\n",
       "    <tr>\n",
       "      <th>...</th>\n",
       "      <td>...</td>\n",
       "      <td>...</td>\n",
       "    </tr>\n",
       "    <tr>\n",
       "      <th>1413</th>\n",
       "      <td>Kandola</td>\n",
       "      <td>Kamran</td>\n",
       "    </tr>\n",
       "    <tr>\n",
       "      <th>1414</th>\n",
       "      <td>Lembikisa</td>\n",
       "      <td>Dexter Joeng Woo</td>\n",
       "    </tr>\n",
       "    <tr>\n",
       "      <th>1415</th>\n",
       "      <td>Pinnington</td>\n",
       "      <td>Dean Stanley</td>\n",
       "    </tr>\n",
       "    <tr>\n",
       "      <th>1416</th>\n",
       "      <td>Roberts</td>\n",
       "      <td>Tyler</td>\n",
       "    </tr>\n",
       "    <tr>\n",
       "      <th>1417</th>\n",
       "      <td>Sangare</td>\n",
       "      <td>Faisu</td>\n",
       "    </tr>\n",
       "  </tbody>\n",
       "</table>\n",
       "<p>1418 rows × 2 columns</p>\n",
       "</div>"
      ],
      "text/plain": [
       "          LastName          FirstName\n",
       "0          Akinola   Timothy Olaoluwa\n",
       "1         Alebiosu               Ryan\n",
       "2     Alves Soares     Cedric Ricardo\n",
       "3       Aubameyang     Pierre-Emerick\n",
       "4              Awe  Zachariah Olumide\n",
       "...            ...                ...\n",
       "1413       Kandola             Kamran\n",
       "1414     Lembikisa   Dexter Joeng Woo\n",
       "1415    Pinnington       Dean Stanley\n",
       "1416       Roberts              Tyler\n",
       "1417       Sangare              Faisu\n",
       "\n",
       "[1418 rows x 2 columns]"
      ]
     },
     "execution_count": 24,
     "metadata": {},
     "output_type": "execute_result"
    }
   ],
   "source": [
    "playerNames = pd.read_csv('playerNames.csv')\n",
    "print(playerNames.columns)\n",
    "playerNames['LastName'] = playerNames['LastName'].str.strip()\n",
    "playerNames['FirstName'] = playerNames['FirstName'].str.strip()\n",
    "playerNames"
   ]
  },
  {
   "cell_type": "code",
   "execution_count": 18,
   "id": "be7cf6e3",
   "metadata": {},
   "outputs": [
    {
     "data": {
      "text/plain": [
       "23396"
      ]
     },
     "execution_count": 18,
     "metadata": {},
     "output_type": "execute_result"
    }
   ],
   "source": [
    "dataDF.size"
   ]
  },
  {
   "cell_type": "code",
   "execution_count": 32,
   "id": "f9705b74",
   "metadata": {},
   "outputs": [],
   "source": [
    "final_data = dataDF[dataDF['player_name'].isin(playerNames['LastName']) | \n",
    "       dataDF['player_name'].isin(playerNames['LastName']) | \n",
    "       dataDF['player_name'].isin(playerNames['LastName'] + ' ' + playerNames['LastName'])]"
   ]
  },
  {
   "cell_type": "code",
   "execution_count": 35,
   "id": "4182b0e7",
   "metadata": {},
   "outputs": [
    {
     "data": {
      "text/plain": [
       "143"
      ]
     },
     "execution_count": 35,
     "metadata": {},
     "output_type": "execute_result"
    }
   ],
   "source": [
    "print('total players in our data set', final_data['player_name'].nunique())\n",
    "print('total news articles in our data set', final_data['player_name'].nunique())"
   ]
  },
  {
   "cell_type": "markdown",
   "id": "85de9ec3",
   "metadata": {},
   "source": [
    "## Labeling the data"
   ]
  },
  {
   "cell_type": "code",
   "execution_count": 50,
   "id": "6f07a06e",
   "metadata": {},
   "outputs": [
    {
     "data": {
      "text/html": [
       "<div>\n",
       "<style scoped>\n",
       "    .dataframe tbody tr th:only-of-type {\n",
       "        vertical-align: middle;\n",
       "    }\n",
       "\n",
       "    .dataframe tbody tr th {\n",
       "        vertical-align: top;\n",
       "    }\n",
       "\n",
       "    .dataframe thead th {\n",
       "        text-align: right;\n",
       "    }\n",
       "</style>\n",
       "<table border=\"1\" class=\"dataframe\">\n",
       "  <thead>\n",
       "    <tr style=\"text-align: right;\">\n",
       "      <th></th>\n",
       "      <th>FirstName</th>\n",
       "      <th>LastName</th>\n",
       "    </tr>\n",
       "  </thead>\n",
       "  <tbody>\n",
       "    <tr>\n",
       "      <th>0</th>\n",
       "      <td>Nuno</td>\n",
       "      <td>Tavares</td>\n",
       "    </tr>\n",
       "    <tr>\n",
       "      <th>1</th>\n",
       "      <td>Albert</td>\n",
       "      <td>Sambi</td>\n",
       "    </tr>\n",
       "    <tr>\n",
       "      <th>2</th>\n",
       "      <td>Mika</td>\n",
       "      <td>Biereth</td>\n",
       "    </tr>\n",
       "    <tr>\n",
       "      <th>3</th>\n",
       "      <td>Ben</td>\n",
       "      <td>White</td>\n",
       "    </tr>\n",
       "    <tr>\n",
       "      <th>4</th>\n",
       "      <td>Martin</td>\n",
       "      <td>Odegaard</td>\n",
       "    </tr>\n",
       "    <tr>\n",
       "      <th>...</th>\n",
       "      <td>...</td>\n",
       "      <td>...</td>\n",
       "    </tr>\n",
       "    <tr>\n",
       "      <th>596</th>\n",
       "      <td>Austin</td>\n",
       "      <td>Samuels</td>\n",
       "    </tr>\n",
       "    <tr>\n",
       "      <th>597</th>\n",
       "      <td>Luke</td>\n",
       "      <td>Matheson</td>\n",
       "    </tr>\n",
       "    <tr>\n",
       "      <th>598</th>\n",
       "      <td>Connor</td>\n",
       "      <td>Ronan</td>\n",
       "    </tr>\n",
       "    <tr>\n",
       "      <th>599</th>\n",
       "      <td>Andreas</td>\n",
       "      <td>Sondergaard</td>\n",
       "    </tr>\n",
       "    <tr>\n",
       "      <th>600</th>\n",
       "      <td>Nigel</td>\n",
       "      <td>Lonwijk</td>\n",
       "    </tr>\n",
       "  </tbody>\n",
       "</table>\n",
       "<p>601 rows × 2 columns</p>\n",
       "</div>"
      ],
      "text/plain": [
       "    FirstName     LastName\n",
       "0        Nuno      Tavares\n",
       "1      Albert        Sambi\n",
       "2        Mika      Biereth\n",
       "3         Ben        White\n",
       "4      Martin     Odegaard\n",
       "..        ...          ...\n",
       "596    Austin      Samuels\n",
       "597      Luke     Matheson\n",
       "598    Connor        Ronan\n",
       "599   Andreas  Sondergaard\n",
       "600     Nigel      Lonwijk\n",
       "\n",
       "[601 rows x 2 columns]"
      ]
     },
     "execution_count": 50,
     "metadata": {},
     "output_type": "execute_result"
    }
   ],
   "source": [
    "transferedPlayers = pd.read_csv('Transfered_players.csv')\n",
    "transferedPlayers"
   ]
  },
  {
   "cell_type": "code",
   "execution_count": 56,
   "id": "f2e4285f",
   "metadata": {},
   "outputs": [
    {
     "name": "stderr",
     "output_type": "stream",
     "text": [
      "C:\\Users\\ravih\\AppData\\Local\\Temp/ipykernel_8468/925974683.py:1: SettingWithCopyWarning: \n",
      "A value is trying to be set on a copy of a slice from a DataFrame.\n",
      "Try using .loc[row_indexer,col_indexer] = value instead\n",
      "\n",
      "See the caveats in the documentation: https://pandas.pydata.org/pandas-docs/stable/user_guide/indexing.html#returning-a-view-versus-a-copy\n",
      "  final_data['Transfered'] = final_data['player_name'].isin(transferedPlayers['FirstName']) | \\\n",
      "C:\\Users\\ravih\\AppData\\Local\\Temp/ipykernel_8468/925974683.py:4: SettingWithCopyWarning: \n",
      "A value is trying to be set on a copy of a slice from a DataFrame.\n",
      "Try using .loc[row_indexer,col_indexer] = value instead\n",
      "\n",
      "See the caveats in the documentation: https://pandas.pydata.org/pandas-docs/stable/user_guide/indexing.html#returning-a-view-versus-a-copy\n",
      "  final_data['Transfered'] = final_data['Transfered'].apply(lambda x: 1 if x else 0)\n"
     ]
    },
    {
     "data": {
      "text/plain": [
       "408"
      ]
     },
     "execution_count": 56,
     "metadata": {},
     "output_type": "execute_result"
    }
   ],
   "source": [
    "final_data['Transfered'] = final_data['player_name'].isin(transferedPlayers['FirstName']) | \\\n",
    "       final_data['player_name'].isin(transferedPlayers['LastName']) |  \\\n",
    "       final_data['player_name'].isin(transferedPlayers['LastName'] + ' ' + transferedPlayers['LastName'])\n",
    "final_data['Transfered'] = final_data['Transfered'].apply(lambda x: 1 if x else 0)\n",
    "sum(final_data['Transfered'])"
   ]
  },
  {
   "cell_type": "markdown",
   "id": "8640946e",
   "metadata": {},
   "source": [
    "## Grouping the data"
   ]
  },
  {
   "cell_type": "code",
   "execution_count": 71,
   "id": "8423d5a2",
   "metadata": {},
   "outputs": [],
   "source": [
    "player_news_set = final_data.groupby('player_name')['news_file'].apply(list).reset_index()\n",
    "player_transfer_set = final_data.groupby('player_name')['Transfered'].apply(sum).reset_index()\n",
    "merged_data = player_news_set.merge(player_transfer_set, how = 'inner', on = 'player_name')\n",
    "merged_data['Transfered'] = merged_data['Transfered'].apply(lambda x: 0 if x == 0 else 1)"
   ]
  },
  {
   "cell_type": "code",
   "execution_count": 73,
   "id": "d1647efa",
   "metadata": {},
   "outputs": [],
   "source": [
    "merged_data.to_csv('player_news_set.csv')"
   ]
  }
 ],
 "metadata": {
  "kernelspec": {
   "display_name": "Python 3 (ipykernel)",
   "language": "python",
   "name": "python3"
  },
  "language_info": {
   "codemirror_mode": {
    "name": "ipython",
    "version": 3
   },
   "file_extension": ".py",
   "mimetype": "text/x-python",
   "name": "python",
   "nbconvert_exporter": "python",
   "pygments_lexer": "ipython3",
   "version": "3.9.7"
  }
 },
 "nbformat": 4,
 "nbformat_minor": 5
}
