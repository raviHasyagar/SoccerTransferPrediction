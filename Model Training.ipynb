{
 "cells": [
  {
   "cell_type": "markdown",
   "id": "224381bf",
   "metadata": {},
   "source": [
    "## Model Training"
   ]
  },
  {
   "cell_type": "code",
   "execution_count": 1,
   "id": "1a54f85f",
   "metadata": {},
   "outputs": [
    {
     "name": "stderr",
     "output_type": "stream",
     "text": [
      "[nltk_data] Downloading package punkt to\n",
      "[nltk_data]     C:\\Users\\ravih\\AppData\\Roaming\\nltk_data...\n",
      "[nltk_data]   Package punkt is already up-to-date!\n"
     ]
    }
   ],
   "source": [
    "## All imports\n",
    "import tensorflow as tf\n",
    "import pandas as pd\n",
    "import nltk\n",
    "nltk.download('punkt')\n",
    "import numpy as np\n",
    "from gensim.models import Word2Vec\n",
    "from sklearn.model_selection import train_test_split\n",
    "from sklearn.ensemble import RandomForestClassifier\n",
    "from sklearn.feature_extraction.text import TfidfVectorizer\n",
    "from sklearn.tree import DecisionTreeClassifier\n",
    "from sklearn.metrics import f1_score, accuracy_score, precision_score, recall_score\n",
    "from sklearn.metrics import confusion_matrix\n",
    "from sklearn.metrics import ConfusionMatrixDisplay\n",
    "\n",
    "tf.config.run_functions_eagerly(True)"
   ]
  },
  {
   "cell_type": "code",
   "execution_count": 2,
   "id": "1ae6d555",
   "metadata": {},
   "outputs": [
    {
     "data": {
      "text/html": [
       "<div>\n",
       "<style scoped>\n",
       "    .dataframe tbody tr th:only-of-type {\n",
       "        vertical-align: middle;\n",
       "    }\n",
       "\n",
       "    .dataframe tbody tr th {\n",
       "        vertical-align: top;\n",
       "    }\n",
       "\n",
       "    .dataframe thead th {\n",
       "        text-align: right;\n",
       "    }\n",
       "</style>\n",
       "<table border=\"1\" class=\"dataframe\">\n",
       "  <thead>\n",
       "    <tr style=\"text-align: right;\">\n",
       "      <th></th>\n",
       "      <th>player_name</th>\n",
       "      <th>news_file</th>\n",
       "      <th>Transfered</th>\n",
       "    </tr>\n",
       "  </thead>\n",
       "  <tbody>\n",
       "    <tr>\n",
       "      <th>0</th>\n",
       "      <td>Abraham</td>\n",
       "      <td>[D:\\Academics\\UMN-MSBA\\Term 3\\MSBA 6460 - Adva...</td>\n",
       "      <td>1</td>\n",
       "    </tr>\n",
       "    <tr>\n",
       "      <th>1</th>\n",
       "      <td>Ake</td>\n",
       "      <td>[D:\\Academics\\UMN-MSBA\\Term 3\\MSBA 6460 - Adva...</td>\n",
       "      <td>0</td>\n",
       "    </tr>\n",
       "    <tr>\n",
       "      <th>2</th>\n",
       "      <td>Allan</td>\n",
       "      <td>[D:\\Academics\\UMN-MSBA\\Term 3\\MSBA 6460 - Adva...</td>\n",
       "      <td>1</td>\n",
       "    </tr>\n",
       "    <tr>\n",
       "      <th>3</th>\n",
       "      <td>Alli</td>\n",
       "      <td>[D:\\Academics\\UMN-MSBA\\Term 3\\MSBA 6460 - Adva...</td>\n",
       "      <td>0</td>\n",
       "    </tr>\n",
       "    <tr>\n",
       "      <th>4</th>\n",
       "      <td>Ampadu</td>\n",
       "      <td>[D:\\Academics\\UMN-MSBA\\Term 3\\MSBA 6460 - Adva...</td>\n",
       "      <td>1</td>\n",
       "    </tr>\n",
       "    <tr>\n",
       "      <th>...</th>\n",
       "      <td>...</td>\n",
       "      <td>...</td>\n",
       "      <td>...</td>\n",
       "    </tr>\n",
       "    <tr>\n",
       "      <th>138</th>\n",
       "      <td>Wright</td>\n",
       "      <td>[D:\\Academics\\UMN-MSBA\\Term 3\\MSBA 6460 - Adva...</td>\n",
       "      <td>1</td>\n",
       "    </tr>\n",
       "    <tr>\n",
       "      <th>139</th>\n",
       "      <td>Xhaka</td>\n",
       "      <td>[D:\\Academics\\UMN-MSBA\\Term 3\\MSBA 6460 - Adva...</td>\n",
       "      <td>0</td>\n",
       "    </tr>\n",
       "    <tr>\n",
       "      <th>140</th>\n",
       "      <td>Zaha</td>\n",
       "      <td>[D:\\Academics\\UMN-MSBA\\Term 3\\MSBA 6460 - Adva...</td>\n",
       "      <td>0</td>\n",
       "    </tr>\n",
       "    <tr>\n",
       "      <th>141</th>\n",
       "      <td>Ziyech</td>\n",
       "      <td>[D:\\Academics\\UMN-MSBA\\Term 3\\MSBA 6460 - Adva...</td>\n",
       "      <td>0</td>\n",
       "    </tr>\n",
       "    <tr>\n",
       "      <th>142</th>\n",
       "      <td>Zouma</td>\n",
       "      <td>[D:\\Academics\\UMN-MSBA\\Term 3\\MSBA 6460 - Adva...</td>\n",
       "      <td>1</td>\n",
       "    </tr>\n",
       "  </tbody>\n",
       "</table>\n",
       "<p>143 rows × 3 columns</p>\n",
       "</div>"
      ],
      "text/plain": [
       "    player_name                                          news_file  Transfered\n",
       "0       Abraham  [D:\\Academics\\UMN-MSBA\\Term 3\\MSBA 6460 - Adva...           1\n",
       "1           Ake  [D:\\Academics\\UMN-MSBA\\Term 3\\MSBA 6460 - Adva...           0\n",
       "2         Allan  [D:\\Academics\\UMN-MSBA\\Term 3\\MSBA 6460 - Adva...           1\n",
       "3          Alli  [D:\\Academics\\UMN-MSBA\\Term 3\\MSBA 6460 - Adva...           0\n",
       "4        Ampadu  [D:\\Academics\\UMN-MSBA\\Term 3\\MSBA 6460 - Adva...           1\n",
       "..          ...                                                ...         ...\n",
       "138      Wright  [D:\\Academics\\UMN-MSBA\\Term 3\\MSBA 6460 - Adva...           1\n",
       "139       Xhaka  [D:\\Academics\\UMN-MSBA\\Term 3\\MSBA 6460 - Adva...           0\n",
       "140        Zaha  [D:\\Academics\\UMN-MSBA\\Term 3\\MSBA 6460 - Adva...           0\n",
       "141      Ziyech  [D:\\Academics\\UMN-MSBA\\Term 3\\MSBA 6460 - Adva...           0\n",
       "142       Zouma  [D:\\Academics\\UMN-MSBA\\Term 3\\MSBA 6460 - Adva...           1\n",
       "\n",
       "[143 rows x 3 columns]"
      ]
     },
     "execution_count": 2,
     "metadata": {},
     "output_type": "execute_result"
    }
   ],
   "source": [
    "files = pd.read_csv('player_news_set.csv', converters={\"news_file\": lambda x: x.strip(\"[]\").replace(\"'\",\"\").replace('\\\\\\\\', '\\\\').split(\", \")}).drop(['Unnamed: 0'], axis = 1)\n",
    "files"
   ]
  },
  {
   "cell_type": "code",
   "execution_count": 3,
   "id": "023889f3",
   "metadata": {},
   "outputs": [
    {
     "data": {
      "text/plain": [
       "0    93\n",
       "1    50\n",
       "Name: Transfered, dtype: int64"
      ]
     },
     "execution_count": 3,
     "metadata": {},
     "output_type": "execute_result"
    }
   ],
   "source": [
    "files['Transfered'].value_counts()"
   ]
  },
  {
   "cell_type": "markdown",
   "id": "5b443938",
   "metadata": {},
   "source": [
    "## Collecting training set and getting the articles"
   ]
  },
  {
   "cell_type": "code",
   "execution_count": 4,
   "id": "faddfdd3",
   "metadata": {},
   "outputs": [],
   "source": [
    "def getAllNews(pathList):\n",
    "    news = ''\n",
    "    for i in pathList:\n",
    "        with open(i) as f:\n",
    "            lines = f.readlines()[0]\n",
    "        news += ' ' + lines\n",
    "    return news"
   ]
  },
  {
   "cell_type": "code",
   "execution_count": 5,
   "id": "2ddc3d40",
   "metadata": {},
   "outputs": [
    {
     "data": {
      "text/html": [
       "<div>\n",
       "<style scoped>\n",
       "    .dataframe tbody tr th:only-of-type {\n",
       "        vertical-align: middle;\n",
       "    }\n",
       "\n",
       "    .dataframe tbody tr th {\n",
       "        vertical-align: top;\n",
       "    }\n",
       "\n",
       "    .dataframe thead th {\n",
       "        text-align: right;\n",
       "    }\n",
       "</style>\n",
       "<table border=\"1\" class=\"dataframe\">\n",
       "  <thead>\n",
       "    <tr style=\"text-align: right;\">\n",
       "      <th></th>\n",
       "      <th>player_name</th>\n",
       "      <th>Transfered</th>\n",
       "      <th>agg_news</th>\n",
       "    </tr>\n",
       "  </thead>\n",
       "  <tbody>\n",
       "    <tr>\n",
       "      <th>0</th>\n",
       "      <td>Abraham</td>\n",
       "      <td>1</td>\n",
       "      <td>The west London giants have accumulated 12 po...</td>\n",
       "    </tr>\n",
       "    <tr>\n",
       "      <th>1</th>\n",
       "      <td>Ake</td>\n",
       "      <td>0</td>\n",
       "      <td>The Spaniard has hardly played for the Cityze...</td>\n",
       "    </tr>\n",
       "    <tr>\n",
       "      <th>2</th>\n",
       "      <td>Allan</td>\n",
       "      <td>1</td>\n",
       "      <td>The 33-year-old has not played a single minut...</td>\n",
       "    </tr>\n",
       "    <tr>\n",
       "      <th>3</th>\n",
       "      <td>Alli</td>\n",
       "      <td>0</td>\n",
       "      <td>PSG's newly appointed manager Mauricio Pochet...</td>\n",
       "    </tr>\n",
       "    <tr>\n",
       "      <th>4</th>\n",
       "      <td>Ampadu</td>\n",
       "      <td>1</td>\n",
       "      <td>The Welshman spent the previous season on loa...</td>\n",
       "    </tr>\n",
       "    <tr>\n",
       "      <th>...</th>\n",
       "      <td>...</td>\n",
       "      <td>...</td>\n",
       "      <td>...</td>\n",
       "    </tr>\n",
       "    <tr>\n",
       "      <th>138</th>\n",
       "      <td>Wright</td>\n",
       "      <td>1</td>\n",
       "      <td>The Gunners wanted to sign both Aouar and Tho...</td>\n",
       "    </tr>\n",
       "    <tr>\n",
       "      <th>139</th>\n",
       "      <td>Xhaka</td>\n",
       "      <td>0</td>\n",
       "      <td>Arsenal have looked strong in the opening few...</td>\n",
       "    </tr>\n",
       "    <tr>\n",
       "      <th>140</th>\n",
       "      <td>Zaha</td>\n",
       "      <td>0</td>\n",
       "      <td>Arsenal pushed through a deal to sign struggl...</td>\n",
       "    </tr>\n",
       "    <tr>\n",
       "      <th>141</th>\n",
       "      <td>Ziyech</td>\n",
       "      <td>0</td>\n",
       "      <td>The duo picked up hamstring injuries during t...</td>\n",
       "    </tr>\n",
       "    <tr>\n",
       "      <th>142</th>\n",
       "      <td>Zouma</td>\n",
       "      <td>1</td>\n",
       "      <td>The Frenchman spent the 2018/2019 campaign on...</td>\n",
       "    </tr>\n",
       "  </tbody>\n",
       "</table>\n",
       "<p>143 rows × 3 columns</p>\n",
       "</div>"
      ],
      "text/plain": [
       "    player_name  Transfered                                           agg_news\n",
       "0       Abraham           1   The west London giants have accumulated 12 po...\n",
       "1           Ake           0   The Spaniard has hardly played for the Cityze...\n",
       "2         Allan           1   The 33-year-old has not played a single minut...\n",
       "3          Alli           0   PSG's newly appointed manager Mauricio Pochet...\n",
       "4        Ampadu           1   The Welshman spent the previous season on loa...\n",
       "..          ...         ...                                                ...\n",
       "138      Wright           1   The Gunners wanted to sign both Aouar and Tho...\n",
       "139       Xhaka           0   Arsenal have looked strong in the opening few...\n",
       "140        Zaha           0   Arsenal pushed through a deal to sign struggl...\n",
       "141      Ziyech           0   The duo picked up hamstring injuries during t...\n",
       "142       Zouma           1   The Frenchman spent the 2018/2019 campaign on...\n",
       "\n",
       "[143 rows x 3 columns]"
      ]
     },
     "execution_count": 5,
     "metadata": {},
     "output_type": "execute_result"
    }
   ],
   "source": [
    "files['agg_news'] = files['news_file'].apply(getAllNews)\n",
    "files = files.drop(['news_file'], axis = 1)\n",
    "files"
   ]
  },
  {
   "cell_type": "markdown",
   "id": "cea8f230",
   "metadata": {},
   "source": [
    "## Modeling"
   ]
  },
  {
   "cell_type": "markdown",
   "id": "815bf0e5",
   "metadata": {},
   "source": [
    "## Train-test Split"
   ]
  },
  {
   "cell_type": "code",
   "execution_count": 6,
   "id": "b7adecf4",
   "metadata": {},
   "outputs": [],
   "source": [
    "training_X, test_X, training_y, test_y = train_test_split(files[['player_name', 'agg_news']], \n",
    "                                                          files['Transfered'],\n",
    "                                                          random_state = 420,\n",
    "                                                          test_size = 30, \n",
    "                                                          stratify = files['Transfered'])"
   ]
  },
  {
   "cell_type": "code",
   "execution_count": 7,
   "id": "83b81ad9",
   "metadata": {},
   "outputs": [],
   "source": [
    "training_y_2col = []\n",
    "for i in training_y:\n",
    "    if i == 0:\n",
    "        training_y_2col.append([1, 0])\n",
    "    elif i == 1:\n",
    "        training_y_2col.append([0, 1])\n",
    "training_y_2col = np.array(training_y_2col)\n",
    "\n",
    "testing_y_2col = []\n",
    "for i in test_y:\n",
    "    if i == 0:\n",
    "        testing_y_2col.append([1, 0])\n",
    "    elif i == 1:\n",
    "        testing_y_2col.append([0, 1])\n",
    "testing_y_3col = np.array(testing_y_2col)"
   ]
  },
  {
   "cell_type": "markdown",
   "id": "6f93f726",
   "metadata": {},
   "source": [
    "### Setting up the model"
   ]
  },
  {
   "cell_type": "code",
   "execution_count": 8,
   "id": "4fa9992d",
   "metadata": {},
   "outputs": [
    {
     "name": "stderr",
     "output_type": "stream",
     "text": [
      "C:\\Users\\ravih\\anaconda3\\lib\\site-packages\\torchaudio\\backend\\utils.py:62: UserWarning: No audio backend is available.\n",
      "  warnings.warn(\"No audio backend is available.\")\n"
     ]
    }
   ],
   "source": [
    "from transformers import *\n",
    "from transformers import BertTokenizer, TFBertModel, BertConfig\n",
    "import tensorflow_hub as hub\n",
    "import tensorflow_text as text"
   ]
  },
  {
   "cell_type": "code",
   "execution_count": 9,
   "id": "46917ba2",
   "metadata": {},
   "outputs": [],
   "source": [
    "bert_preprocess = hub.KerasLayer(\"https://tfhub.dev/tensorflow/bert_en_uncased_preprocess/3\")\n",
    "bert_encoder = hub.KerasLayer(\"https://tfhub.dev/tensorflow/bert_en_uncased_L-12_H-768_A-12/4\")"
   ]
  },
  {
   "cell_type": "code",
   "execution_count": 30,
   "id": "f6887577",
   "metadata": {},
   "outputs": [],
   "source": [
    "def buildBERTModel():\n",
    "    model_bert = tf.keras.Sequential()\n",
    "\n",
    "    text_input = tf.keras.layers.Input(shape=(), dtype=tf.string, name='text')\n",
    "    preprocessing_layer = hub.KerasLayer(bert_preprocess, name='preprocessing')\n",
    "    encoder_inputs = preprocessing_layer(text_input)\n",
    "    encoder = hub.KerasLayer(bert_encoder, trainable=False, name='BERT_encoder')\n",
    "    \n",
    "    outputs = encoder(encoder_inputs)\n",
    "    \n",
    "    net = outputs['sequence_output']\n",
    "    net = tf.keras.layers.LSTM(64, name = 'LSTM')(net)\n",
    "    net = tf.keras.layers.Dropout(0.5)(net)\n",
    "    net = tf.keras.layers.Dense(64, activation='relu', kernel_regularizer=tf.keras.regularizers.l1_l2(.01))(net)\n",
    "    net = tf.keras.layers.Dense(2, activation='sigmoid', name='classifier')(net)\n",
    "    return tf.keras.Model(text_input, net)"
   ]
  },
  {
   "cell_type": "code",
   "execution_count": 31,
   "id": "ba48a174",
   "metadata": {},
   "outputs": [],
   "source": [
    "bert_model = buildBERTModel()    \n",
    "bert_model.compile(loss = tf.keras.losses.BinaryCrossentropy(),\n",
    "                       optimizer='adam',\n",
    "                       metrics=['accuracy'])"
   ]
  },
  {
   "cell_type": "code",
   "execution_count": 32,
   "id": "dbebb008",
   "metadata": {},
   "outputs": [
    {
     "name": "stdout",
     "output_type": "stream",
     "text": [
      "Model: \"model_2\"\n",
      "__________________________________________________________________________________________________\n",
      " Layer (type)                   Output Shape         Param #     Connected to                     \n",
      "==================================================================================================\n",
      " text (InputLayer)              [(None,)]            0           []                               \n",
      "                                                                                                  \n",
      " preprocessing (KerasLayer)     {'input_word_ids':   0           ['text[0][0]']                   \n",
      "                                (None, 128),                                                      \n",
      "                                 'input_mask': (Non                                               \n",
      "                                e, 128),                                                          \n",
      "                                 'input_type_ids':                                                \n",
      "                                (None, 128)}                                                      \n",
      "                                                                                                  \n",
      " BERT_encoder (KerasLayer)      {'sequence_output':  109482241   ['preprocessing[0][0]',          \n",
      "                                 (None, 128, 768),                'preprocessing[0][1]',          \n",
      "                                 'default': (None,                'preprocessing[0][2]']          \n",
      "                                768),                                                             \n",
      "                                 'pooled_output': (                                               \n",
      "                                None, 768),                                                       \n",
      "                                 'encoder_outputs':                                               \n",
      "                                 [(None, 128, 768),                                               \n",
      "                                 (None, 128, 768),                                                \n",
      "                                 (None, 128, 768),                                                \n",
      "                                 (None, 128, 768),                                                \n",
      "                                 (None, 128, 768),                                                \n",
      "                                 (None, 128, 768),                                                \n",
      "                                 (None, 128, 768),                                                \n",
      "                                 (None, 128, 768),                                                \n",
      "                                 (None, 128, 768),                                                \n",
      "                                 (None, 128, 768),                                                \n",
      "                                 (None, 128, 768),                                                \n",
      "                                 (None, 128, 768)]}                                               \n",
      "                                                                                                  \n",
      " LSTM (LSTM)                    (None, 64)           213248      ['BERT_encoder[0][14]']          \n",
      "                                                                                                  \n",
      " dropout_2 (Dropout)            (None, 64)           0           ['LSTM[0][0]']                   \n",
      "                                                                                                  \n",
      " dense_2 (Dense)                (None, 64)           4160        ['dropout_2[0][0]']              \n",
      "                                                                                                  \n",
      " classifier (Dense)             (None, 2)            130         ['dense_2[0][0]']                \n",
      "                                                                                                  \n",
      "==================================================================================================\n",
      "Total params: 109,699,779\n",
      "Trainable params: 217,538\n",
      "Non-trainable params: 109,482,241\n",
      "__________________________________________________________________________________________________\n"
     ]
    }
   ],
   "source": [
    "bert_model.summary()"
   ]
  },
  {
   "cell_type": "code",
   "execution_count": 40,
   "id": "cfef88c7",
   "metadata": {},
   "outputs": [
    {
     "name": "stdout",
     "output_type": "stream",
     "text": [
      "Epoch 1/5\n"
     ]
    },
    {
     "name": "stderr",
     "output_type": "stream",
     "text": [
      "C:\\Users\\ravih\\anaconda3\\lib\\site-packages\\tensorflow\\python\\data\\ops\\structured_function.py:264: UserWarning: Even though the `tf.config.experimental_run_functions_eagerly` option is set, this option does not apply to tf.data functions. To force eager execution of tf.data functions, please use `tf.data.experimental.enable_debug_mode()`.\n",
      "  warnings.warn(\n"
     ]
    },
    {
     "name": "stdout",
     "output_type": "stream",
     "text": [
      "113/113 [==============================] - 21s 184ms/step - loss: 0.3465 - accuracy: 0.9646\n",
      "Epoch 2/5\n",
      "113/113 [==============================] - 21s 184ms/step - loss: 0.2635 - accuracy: 0.9823\n",
      "Epoch 3/5\n",
      "113/113 [==============================] - 21s 184ms/step - loss: 0.3375 - accuracy: 0.9204\n",
      "Epoch 4/5\n",
      "113/113 [==============================] - 21s 184ms/step - loss: 0.2821 - accuracy: 0.9735\n",
      "Epoch 5/5\n",
      "113/113 [==============================] - 21s 184ms/step - loss: 0.2506 - accuracy: 0.9735\n"
     ]
    },
    {
     "data": {
      "text/plain": [
       "<keras.callbacks.History at 0x1bb01da9ee0>"
      ]
     },
     "execution_count": 40,
     "metadata": {},
     "output_type": "execute_result"
    }
   ],
   "source": [
    "bert_model.fit(x = training_X['agg_news'], y = training_y_2col, epochs=5, batch_size = 1)"
   ]
  },
  {
   "cell_type": "markdown",
   "id": "cc56943e",
   "metadata": {},
   "source": [
    "## Predictions"
   ]
  },
  {
   "cell_type": "code",
   "execution_count": 46,
   "id": "7fb151c2",
   "metadata": {},
   "outputs": [
    {
     "name": "stderr",
     "output_type": "stream",
     "text": [
      "C:\\Users\\ravih\\anaconda3\\lib\\site-packages\\tensorflow\\python\\data\\ops\\structured_function.py:264: UserWarning: Even though the `tf.config.experimental_run_functions_eagerly` option is set, this option does not apply to tf.data functions. To force eager execution of tf.data functions, please use `tf.data.experimental.enable_debug_mode()`.\n",
      "  warnings.warn(\n"
     ]
    }
   ],
   "source": [
    "predictions = bert_model.predict(x = test_X['agg_news'])"
   ]
  },
  {
   "cell_type": "code",
   "execution_count": 52,
   "id": "26a237d0",
   "metadata": {},
   "outputs": [
    {
     "data": {
      "text/plain": [
       "0.6527777777777779"
      ]
     },
     "execution_count": 52,
     "metadata": {},
     "output_type": "execute_result"
    }
   ],
   "source": [
    "f1_score(test_y, np.argmax(predictions, axis = 1), average = 'macro')"
   ]
  },
  {
   "cell_type": "code",
   "execution_count": 48,
   "id": "05feeff3",
   "metadata": {},
   "outputs": [
    {
     "data": {
      "text/plain": [
       "0.6666666666666666"
      ]
     },
     "execution_count": 48,
     "metadata": {},
     "output_type": "execute_result"
    }
   ],
   "source": [
    "accuracy_score(test_y, np.argmax(predictions, axis = 1))"
   ]
  },
  {
   "cell_type": "code",
   "execution_count": 49,
   "id": "26fc6b21",
   "metadata": {},
   "outputs": [
    {
     "data": {
      "text/plain": [
       "0.5"
      ]
     },
     "execution_count": 49,
     "metadata": {},
     "output_type": "execute_result"
    }
   ],
   "source": [
    "precision_score(test_y, np.argmax(predictions, axis = 1))"
   ]
  },
  {
   "cell_type": "code",
   "execution_count": 50,
   "id": "737ecd98",
   "metadata": {},
   "outputs": [
    {
     "data": {
      "text/plain": [
       "0.7"
      ]
     },
     "execution_count": 50,
     "metadata": {},
     "output_type": "execute_result"
    }
   ],
   "source": [
    "recall_score(test_y, np.argmax(predictions, axis = 1))"
   ]
  },
  {
   "cell_type": "code",
   "execution_count": null,
   "id": "4dc3b05c",
   "metadata": {},
   "outputs": [],
   "source": []
  }
 ],
 "metadata": {
  "kernelspec": {
   "display_name": "Python 3 (ipykernel)",
   "language": "python",
   "name": "python3"
  },
  "language_info": {
   "codemirror_mode": {
    "name": "ipython",
    "version": 3
   },
   "file_extension": ".py",
   "mimetype": "text/x-python",
   "name": "python",
   "nbconvert_exporter": "python",
   "pygments_lexer": "ipython3",
   "version": "3.9.7"
  }
 },
 "nbformat": 4,
 "nbformat_minor": 5
}
